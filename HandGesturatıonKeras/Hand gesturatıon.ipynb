{
 "cells": [
  {
   "cell_type": "markdown",
   "metadata": {},
   "source": [
    "### Veri  Setinin Yüklenmesi"
   ]
  },
  {
   "cell_type": "code",
   "execution_count": 8,
   "metadata": {},
   "outputs": [
    {
     "name": "stdout",
     "output_type": "stream",
     "text": [
      "Found 200 images belonging to 2 classes.\n",
      "Found 16 images belonging to 2 classes.\n",
      "Found 24 images belonging to 2 classes.\n"
     ]
    }
   ],
   "source": [
    "from keras.preprocessing.image import ImageDataGenerator\n",
    "from keras import models\n",
    "from keras import layers\n",
    "from keras import optimizers\n",
    "\n",
    "train_dir = 'training_set'\n",
    "valid_dir = 'valid_set'\n",
    "test_dir = 'test_set'\n",
    "\n",
    "train_datagen = ImageDataGenerator(rescale=1./255)\n",
    "test_datagen = ImageDataGenerator(rescale=1./255)\n",
    "\n",
    "train_generator = train_datagen.flow_from_directory(train_dir,\n",
    "                                                   target_size=(256,256),\n",
    "                                                   batch_size=8,\n",
    "                                                   class_mode='binary')\n",
    "validation_generator = test_datagen.flow_from_directory(valid_dir,\n",
    "                                                   target_size=(256,256),\n",
    "                                                   batch_size=8,\n",
    "                                                   class_mode='binary')\n",
    "test_generator = test_datagen.flow_from_directory(test_dir,\n",
    "                                                   target_size=(256,256),\n",
    "                                                   batch_size=8,\n",
    "                                                   class_mode='binary')"
   ]
  },
  {
   "cell_type": "markdown",
   "metadata": {},
   "source": [
    "### veri ve etiketlerin boyutlarinin ciktilari"
   ]
  },
  {
   "cell_type": "code",
   "execution_count": 3,
   "metadata": {},
   "outputs": [
    {
     "name": "stdout",
     "output_type": "stream",
     "text": [
      "data batch shape (8, 256, 256, 3)\n",
      "labels batch shape (8,)\n"
     ]
    }
   ],
   "source": [
    "for data_batch, labels_batch in train_generator:\n",
    "    print('data batch shape', data_batch.shape)\n",
    "    print('labels batch shape', labels_batch.shape)\n",
    "    break\n",
    "\n",
    "for data, label in test_generator:\n",
    "    break"
   ]
  },
  {
   "cell_type": "code",
   "execution_count": 331,
   "metadata": {},
   "outputs": [
    {
     "name": "stdout",
     "output_type": "stream",
     "text": [
      "{'moveHub': 0, 'moveWindow': 1}\n"
     ]
    }
   ],
   "source": [
    "print (train_generator.class_indices)\n",
    "labels = '\\n'.join(sorted(train_generator.class_indices.keys()))\n",
    "with open('labels.txt', 'w') as f:\n",
    "    f.write(labels)"
   ]
  },
  {
   "cell_type": "markdown",
   "metadata": {},
   "source": [
    "### Xception mimarisinin tanimlanmasi ve agirliklarin yuklenmesi"
   ]
  },
  {
   "cell_type": "code",
   "execution_count": 43,
   "metadata": {},
   "outputs": [],
   "source": [
    "from keras.applications import Xception\n",
    "\n",
    "conv_base = Xception(weights='imagenet',\n",
    "                    include_top = False,\n",
    "                    input_shape=(256,256,3))\n"
   ]
  },
  {
   "cell_type": "markdown",
   "metadata": {},
   "source": [
    "### Mimarinin sablon ciktilari"
   ]
  },
  {
   "cell_type": "code",
   "execution_count": 179,
   "metadata": {},
   "outputs": [
    {
     "name": "stdout",
     "output_type": "stream",
     "text": [
      "Model: \"xception\"\n",
      "__________________________________________________________________________________________________\n",
      "Layer (type)                    Output Shape         Param #     Connected to                     \n",
      "==================================================================================================\n",
      "input_17 (InputLayer)           (None, 256, 256, 3)  0                                            \n",
      "__________________________________________________________________________________________________\n",
      "block1_conv1 (Conv2D)           (None, 127, 127, 32) 864         input_17[0][0]                   \n",
      "__________________________________________________________________________________________________\n",
      "block1_conv1_bn (BatchNormaliza (None, 127, 127, 32) 128         block1_conv1[0][0]               \n",
      "__________________________________________________________________________________________________\n",
      "block1_conv1_act (Activation)   (None, 127, 127, 32) 0           block1_conv1_bn[0][0]            \n",
      "__________________________________________________________________________________________________\n",
      "block1_conv2 (Conv2D)           (None, 125, 125, 64) 18432       block1_conv1_act[0][0]           \n",
      "__________________________________________________________________________________________________\n",
      "block1_conv2_bn (BatchNormaliza (None, 125, 125, 64) 256         block1_conv2[0][0]               \n",
      "__________________________________________________________________________________________________\n",
      "block1_conv2_act (Activation)   (None, 125, 125, 64) 0           block1_conv2_bn[0][0]            \n",
      "__________________________________________________________________________________________________\n",
      "block2_sepconv1 (SeparableConv2 (None, 125, 125, 128 8768        block1_conv2_act[0][0]           \n",
      "__________________________________________________________________________________________________\n",
      "block2_sepconv1_bn (BatchNormal (None, 125, 125, 128 512         block2_sepconv1[0][0]            \n",
      "__________________________________________________________________________________________________\n",
      "block2_sepconv2_act (Activation (None, 125, 125, 128 0           block2_sepconv1_bn[0][0]         \n",
      "__________________________________________________________________________________________________\n",
      "block2_sepconv2 (SeparableConv2 (None, 125, 125, 128 17536       block2_sepconv2_act[0][0]        \n",
      "__________________________________________________________________________________________________\n",
      "block2_sepconv2_bn (BatchNormal (None, 125, 125, 128 512         block2_sepconv2[0][0]            \n",
      "__________________________________________________________________________________________________\n",
      "conv2d_61 (Conv2D)              (None, 63, 63, 128)  8192        block1_conv2_act[0][0]           \n",
      "__________________________________________________________________________________________________\n",
      "block2_pool (MaxPooling2D)      (None, 63, 63, 128)  0           block2_sepconv2_bn[0][0]         \n",
      "__________________________________________________________________________________________________\n",
      "batch_normalization_61 (BatchNo (None, 63, 63, 128)  512         conv2d_61[0][0]                  \n",
      "__________________________________________________________________________________________________\n",
      "add_181 (Add)                   (None, 63, 63, 128)  0           block2_pool[0][0]                \n",
      "                                                                 batch_normalization_61[0][0]     \n",
      "__________________________________________________________________________________________________\n",
      "block3_sepconv1_act (Activation (None, 63, 63, 128)  0           add_181[0][0]                    \n",
      "__________________________________________________________________________________________________\n",
      "block3_sepconv1 (SeparableConv2 (None, 63, 63, 256)  33920       block3_sepconv1_act[0][0]        \n",
      "__________________________________________________________________________________________________\n",
      "block3_sepconv1_bn (BatchNormal (None, 63, 63, 256)  1024        block3_sepconv1[0][0]            \n",
      "__________________________________________________________________________________________________\n",
      "block3_sepconv2_act (Activation (None, 63, 63, 256)  0           block3_sepconv1_bn[0][0]         \n",
      "__________________________________________________________________________________________________\n",
      "block3_sepconv2 (SeparableConv2 (None, 63, 63, 256)  67840       block3_sepconv2_act[0][0]        \n",
      "__________________________________________________________________________________________________\n",
      "block3_sepconv2_bn (BatchNormal (None, 63, 63, 256)  1024        block3_sepconv2[0][0]            \n",
      "__________________________________________________________________________________________________\n",
      "conv2d_62 (Conv2D)              (None, 32, 32, 256)  32768       add_181[0][0]                    \n",
      "__________________________________________________________________________________________________\n",
      "block3_pool (MaxPooling2D)      (None, 32, 32, 256)  0           block3_sepconv2_bn[0][0]         \n",
      "__________________________________________________________________________________________________\n",
      "batch_normalization_62 (BatchNo (None, 32, 32, 256)  1024        conv2d_62[0][0]                  \n",
      "__________________________________________________________________________________________________\n",
      "add_182 (Add)                   (None, 32, 32, 256)  0           block3_pool[0][0]                \n",
      "                                                                 batch_normalization_62[0][0]     \n",
      "__________________________________________________________________________________________________\n",
      "block4_sepconv1_act (Activation (None, 32, 32, 256)  0           add_182[0][0]                    \n",
      "__________________________________________________________________________________________________\n",
      "block4_sepconv1 (SeparableConv2 (None, 32, 32, 728)  188672      block4_sepconv1_act[0][0]        \n",
      "__________________________________________________________________________________________________\n",
      "block4_sepconv1_bn (BatchNormal (None, 32, 32, 728)  2912        block4_sepconv1[0][0]            \n",
      "__________________________________________________________________________________________________\n",
      "block4_sepconv2_act (Activation (None, 32, 32, 728)  0           block4_sepconv1_bn[0][0]         \n",
      "__________________________________________________________________________________________________\n",
      "block4_sepconv2 (SeparableConv2 (None, 32, 32, 728)  536536      block4_sepconv2_act[0][0]        \n",
      "__________________________________________________________________________________________________\n",
      "block4_sepconv2_bn (BatchNormal (None, 32, 32, 728)  2912        block4_sepconv2[0][0]            \n",
      "__________________________________________________________________________________________________\n",
      "conv2d_63 (Conv2D)              (None, 16, 16, 728)  186368      add_182[0][0]                    \n",
      "__________________________________________________________________________________________________\n",
      "block4_pool (MaxPooling2D)      (None, 16, 16, 728)  0           block4_sepconv2_bn[0][0]         \n",
      "__________________________________________________________________________________________________\n",
      "batch_normalization_63 (BatchNo (None, 16, 16, 728)  2912        conv2d_63[0][0]                  \n",
      "__________________________________________________________________________________________________\n",
      "add_183 (Add)                   (None, 16, 16, 728)  0           block4_pool[0][0]                \n",
      "                                                                 batch_normalization_63[0][0]     \n",
      "__________________________________________________________________________________________________\n",
      "block5_sepconv1_act (Activation (None, 16, 16, 728)  0           add_183[0][0]                    \n",
      "__________________________________________________________________________________________________\n",
      "block5_sepconv1 (SeparableConv2 (None, 16, 16, 728)  536536      block5_sepconv1_act[0][0]        \n",
      "__________________________________________________________________________________________________\n",
      "block5_sepconv1_bn (BatchNormal (None, 16, 16, 728)  2912        block5_sepconv1[0][0]            \n",
      "__________________________________________________________________________________________________\n",
      "block5_sepconv2_act (Activation (None, 16, 16, 728)  0           block5_sepconv1_bn[0][0]         \n",
      "__________________________________________________________________________________________________\n",
      "block5_sepconv2 (SeparableConv2 (None, 16, 16, 728)  536536      block5_sepconv2_act[0][0]        \n",
      "__________________________________________________________________________________________________\n",
      "block5_sepconv2_bn (BatchNormal (None, 16, 16, 728)  2912        block5_sepconv2[0][0]            \n",
      "__________________________________________________________________________________________________\n",
      "block5_sepconv3_act (Activation (None, 16, 16, 728)  0           block5_sepconv2_bn[0][0]         \n",
      "__________________________________________________________________________________________________\n",
      "block5_sepconv3 (SeparableConv2 (None, 16, 16, 728)  536536      block5_sepconv3_act[0][0]        \n",
      "__________________________________________________________________________________________________\n",
      "block5_sepconv3_bn (BatchNormal (None, 16, 16, 728)  2912        block5_sepconv3[0][0]            \n",
      "__________________________________________________________________________________________________\n",
      "add_184 (Add)                   (None, 16, 16, 728)  0           block5_sepconv3_bn[0][0]         \n",
      "                                                                 add_183[0][0]                    \n",
      "__________________________________________________________________________________________________\n",
      "block6_sepconv1_act (Activation (None, 16, 16, 728)  0           add_184[0][0]                    \n",
      "__________________________________________________________________________________________________\n",
      "block6_sepconv1 (SeparableConv2 (None, 16, 16, 728)  536536      block6_sepconv1_act[0][0]        \n",
      "__________________________________________________________________________________________________\n",
      "block6_sepconv1_bn (BatchNormal (None, 16, 16, 728)  2912        block6_sepconv1[0][0]            \n",
      "__________________________________________________________________________________________________\n",
      "block6_sepconv2_act (Activation (None, 16, 16, 728)  0           block6_sepconv1_bn[0][0]         \n",
      "__________________________________________________________________________________________________\n",
      "block6_sepconv2 (SeparableConv2 (None, 16, 16, 728)  536536      block6_sepconv2_act[0][0]        \n",
      "__________________________________________________________________________________________________\n",
      "block6_sepconv2_bn (BatchNormal (None, 16, 16, 728)  2912        block6_sepconv2[0][0]            \n",
      "__________________________________________________________________________________________________\n",
      "block6_sepconv3_act (Activation (None, 16, 16, 728)  0           block6_sepconv2_bn[0][0]         \n",
      "__________________________________________________________________________________________________\n",
      "block6_sepconv3 (SeparableConv2 (None, 16, 16, 728)  536536      block6_sepconv3_act[0][0]        \n",
      "__________________________________________________________________________________________________\n",
      "block6_sepconv3_bn (BatchNormal (None, 16, 16, 728)  2912        block6_sepconv3[0][0]            \n",
      "__________________________________________________________________________________________________\n",
      "add_185 (Add)                   (None, 16, 16, 728)  0           block6_sepconv3_bn[0][0]         \n",
      "                                                                 add_184[0][0]                    \n",
      "__________________________________________________________________________________________________\n",
      "block7_sepconv1_act (Activation (None, 16, 16, 728)  0           add_185[0][0]                    \n",
      "__________________________________________________________________________________________________\n",
      "block7_sepconv1 (SeparableConv2 (None, 16, 16, 728)  536536      block7_sepconv1_act[0][0]        \n",
      "__________________________________________________________________________________________________\n",
      "block7_sepconv1_bn (BatchNormal (None, 16, 16, 728)  2912        block7_sepconv1[0][0]            \n",
      "__________________________________________________________________________________________________\n",
      "block7_sepconv2_act (Activation (None, 16, 16, 728)  0           block7_sepconv1_bn[0][0]         \n",
      "__________________________________________________________________________________________________\n",
      "block7_sepconv2 (SeparableConv2 (None, 16, 16, 728)  536536      block7_sepconv2_act[0][0]        \n",
      "__________________________________________________________________________________________________\n",
      "block7_sepconv2_bn (BatchNormal (None, 16, 16, 728)  2912        block7_sepconv2[0][0]            \n",
      "__________________________________________________________________________________________________\n",
      "block7_sepconv3_act (Activation (None, 16, 16, 728)  0           block7_sepconv2_bn[0][0]         \n",
      "__________________________________________________________________________________________________\n",
      "block7_sepconv3 (SeparableConv2 (None, 16, 16, 728)  536536      block7_sepconv3_act[0][0]        \n",
      "__________________________________________________________________________________________________\n",
      "block7_sepconv3_bn (BatchNormal (None, 16, 16, 728)  2912        block7_sepconv3[0][0]            \n",
      "__________________________________________________________________________________________________\n",
      "add_186 (Add)                   (None, 16, 16, 728)  0           block7_sepconv3_bn[0][0]         \n",
      "                                                                 add_185[0][0]                    \n",
      "__________________________________________________________________________________________________\n",
      "block8_sepconv1_act (Activation (None, 16, 16, 728)  0           add_186[0][0]                    \n",
      "__________________________________________________________________________________________________\n",
      "block8_sepconv1 (SeparableConv2 (None, 16, 16, 728)  536536      block8_sepconv1_act[0][0]        \n",
      "__________________________________________________________________________________________________\n",
      "block8_sepconv1_bn (BatchNormal (None, 16, 16, 728)  2912        block8_sepconv1[0][0]            \n",
      "__________________________________________________________________________________________________\n",
      "block8_sepconv2_act (Activation (None, 16, 16, 728)  0           block8_sepconv1_bn[0][0]         \n",
      "__________________________________________________________________________________________________\n",
      "block8_sepconv2 (SeparableConv2 (None, 16, 16, 728)  536536      block8_sepconv2_act[0][0]        \n",
      "__________________________________________________________________________________________________\n",
      "block8_sepconv2_bn (BatchNormal (None, 16, 16, 728)  2912        block8_sepconv2[0][0]            \n",
      "__________________________________________________________________________________________________\n",
      "block8_sepconv3_act (Activation (None, 16, 16, 728)  0           block8_sepconv2_bn[0][0]         \n",
      "__________________________________________________________________________________________________\n",
      "block8_sepconv3 (SeparableConv2 (None, 16, 16, 728)  536536      block8_sepconv3_act[0][0]        \n",
      "__________________________________________________________________________________________________\n",
      "block8_sepconv3_bn (BatchNormal (None, 16, 16, 728)  2912        block8_sepconv3[0][0]            \n",
      "__________________________________________________________________________________________________\n",
      "add_187 (Add)                   (None, 16, 16, 728)  0           block8_sepconv3_bn[0][0]         \n",
      "                                                                 add_186[0][0]                    \n",
      "__________________________________________________________________________________________________\n",
      "block9_sepconv1_act (Activation (None, 16, 16, 728)  0           add_187[0][0]                    \n",
      "__________________________________________________________________________________________________\n",
      "block9_sepconv1 (SeparableConv2 (None, 16, 16, 728)  536536      block9_sepconv1_act[0][0]        \n",
      "__________________________________________________________________________________________________\n",
      "block9_sepconv1_bn (BatchNormal (None, 16, 16, 728)  2912        block9_sepconv1[0][0]            \n",
      "__________________________________________________________________________________________________\n",
      "block9_sepconv2_act (Activation (None, 16, 16, 728)  0           block9_sepconv1_bn[0][0]         \n",
      "__________________________________________________________________________________________________\n",
      "block9_sepconv2 (SeparableConv2 (None, 16, 16, 728)  536536      block9_sepconv2_act[0][0]        \n",
      "__________________________________________________________________________________________________\n",
      "block9_sepconv2_bn (BatchNormal (None, 16, 16, 728)  2912        block9_sepconv2[0][0]            \n",
      "__________________________________________________________________________________________________\n",
      "block9_sepconv3_act (Activation (None, 16, 16, 728)  0           block9_sepconv2_bn[0][0]         \n",
      "__________________________________________________________________________________________________\n",
      "block9_sepconv3 (SeparableConv2 (None, 16, 16, 728)  536536      block9_sepconv3_act[0][0]        \n",
      "__________________________________________________________________________________________________\n",
      "block9_sepconv3_bn (BatchNormal (None, 16, 16, 728)  2912        block9_sepconv3[0][0]            \n",
      "__________________________________________________________________________________________________\n",
      "add_188 (Add)                   (None, 16, 16, 728)  0           block9_sepconv3_bn[0][0]         \n",
      "                                                                 add_187[0][0]                    \n",
      "__________________________________________________________________________________________________\n",
      "block10_sepconv1_act (Activatio (None, 16, 16, 728)  0           add_188[0][0]                    \n",
      "__________________________________________________________________________________________________\n",
      "block10_sepconv1 (SeparableConv (None, 16, 16, 728)  536536      block10_sepconv1_act[0][0]       \n",
      "__________________________________________________________________________________________________\n",
      "block10_sepconv1_bn (BatchNorma (None, 16, 16, 728)  2912        block10_sepconv1[0][0]           \n",
      "__________________________________________________________________________________________________\n",
      "block10_sepconv2_act (Activatio (None, 16, 16, 728)  0           block10_sepconv1_bn[0][0]        \n",
      "__________________________________________________________________________________________________\n",
      "block10_sepconv2 (SeparableConv (None, 16, 16, 728)  536536      block10_sepconv2_act[0][0]       \n",
      "__________________________________________________________________________________________________\n",
      "block10_sepconv2_bn (BatchNorma (None, 16, 16, 728)  2912        block10_sepconv2[0][0]           \n",
      "__________________________________________________________________________________________________\n",
      "block10_sepconv3_act (Activatio (None, 16, 16, 728)  0           block10_sepconv2_bn[0][0]        \n",
      "__________________________________________________________________________________________________\n",
      "block10_sepconv3 (SeparableConv (None, 16, 16, 728)  536536      block10_sepconv3_act[0][0]       \n",
      "__________________________________________________________________________________________________\n",
      "block10_sepconv3_bn (BatchNorma (None, 16, 16, 728)  2912        block10_sepconv3[0][0]           \n",
      "__________________________________________________________________________________________________\n",
      "add_189 (Add)                   (None, 16, 16, 728)  0           block10_sepconv3_bn[0][0]        \n",
      "                                                                 add_188[0][0]                    \n",
      "__________________________________________________________________________________________________\n",
      "block11_sepconv1_act (Activatio (None, 16, 16, 728)  0           add_189[0][0]                    \n",
      "__________________________________________________________________________________________________\n",
      "block11_sepconv1 (SeparableConv (None, 16, 16, 728)  536536      block11_sepconv1_act[0][0]       \n",
      "__________________________________________________________________________________________________\n",
      "block11_sepconv1_bn (BatchNorma (None, 16, 16, 728)  2912        block11_sepconv1[0][0]           \n",
      "__________________________________________________________________________________________________\n",
      "block11_sepconv2_act (Activatio (None, 16, 16, 728)  0           block11_sepconv1_bn[0][0]        \n",
      "__________________________________________________________________________________________________\n",
      "block11_sepconv2 (SeparableConv (None, 16, 16, 728)  536536      block11_sepconv2_act[0][0]       \n",
      "__________________________________________________________________________________________________\n",
      "block11_sepconv2_bn (BatchNorma (None, 16, 16, 728)  2912        block11_sepconv2[0][0]           \n",
      "__________________________________________________________________________________________________\n",
      "block11_sepconv3_act (Activatio (None, 16, 16, 728)  0           block11_sepconv2_bn[0][0]        \n",
      "__________________________________________________________________________________________________\n",
      "block11_sepconv3 (SeparableConv (None, 16, 16, 728)  536536      block11_sepconv3_act[0][0]       \n",
      "__________________________________________________________________________________________________\n",
      "block11_sepconv3_bn (BatchNorma (None, 16, 16, 728)  2912        block11_sepconv3[0][0]           \n",
      "__________________________________________________________________________________________________\n",
      "add_190 (Add)                   (None, 16, 16, 728)  0           block11_sepconv3_bn[0][0]        \n",
      "                                                                 add_189[0][0]                    \n",
      "__________________________________________________________________________________________________\n",
      "block12_sepconv1_act (Activatio (None, 16, 16, 728)  0           add_190[0][0]                    \n",
      "__________________________________________________________________________________________________\n",
      "block12_sepconv1 (SeparableConv (None, 16, 16, 728)  536536      block12_sepconv1_act[0][0]       \n",
      "__________________________________________________________________________________________________\n",
      "block12_sepconv1_bn (BatchNorma (None, 16, 16, 728)  2912        block12_sepconv1[0][0]           \n",
      "__________________________________________________________________________________________________\n",
      "block12_sepconv2_act (Activatio (None, 16, 16, 728)  0           block12_sepconv1_bn[0][0]        \n",
      "__________________________________________________________________________________________________\n",
      "block12_sepconv2 (SeparableConv (None, 16, 16, 728)  536536      block12_sepconv2_act[0][0]       \n",
      "__________________________________________________________________________________________________\n",
      "block12_sepconv2_bn (BatchNorma (None, 16, 16, 728)  2912        block12_sepconv2[0][0]           \n",
      "__________________________________________________________________________________________________\n",
      "block12_sepconv3_act (Activatio (None, 16, 16, 728)  0           block12_sepconv2_bn[0][0]        \n",
      "__________________________________________________________________________________________________\n",
      "block12_sepconv3 (SeparableConv (None, 16, 16, 728)  536536      block12_sepconv3_act[0][0]       \n",
      "__________________________________________________________________________________________________\n",
      "block12_sepconv3_bn (BatchNorma (None, 16, 16, 728)  2912        block12_sepconv3[0][0]           \n",
      "__________________________________________________________________________________________________\n",
      "add_191 (Add)                   (None, 16, 16, 728)  0           block12_sepconv3_bn[0][0]        \n",
      "                                                                 add_190[0][0]                    \n",
      "__________________________________________________________________________________________________\n",
      "block13_sepconv1_act (Activatio (None, 16, 16, 728)  0           add_191[0][0]                    \n",
      "__________________________________________________________________________________________________\n",
      "block13_sepconv1 (SeparableConv (None, 16, 16, 728)  536536      block13_sepconv1_act[0][0]       \n",
      "__________________________________________________________________________________________________\n",
      "block13_sepconv1_bn (BatchNorma (None, 16, 16, 728)  2912        block13_sepconv1[0][0]           \n",
      "__________________________________________________________________________________________________\n",
      "block13_sepconv2_act (Activatio (None, 16, 16, 728)  0           block13_sepconv1_bn[0][0]        \n",
      "__________________________________________________________________________________________________\n",
      "block13_sepconv2 (SeparableConv (None, 16, 16, 1024) 752024      block13_sepconv2_act[0][0]       \n",
      "__________________________________________________________________________________________________\n",
      "block13_sepconv2_bn (BatchNorma (None, 16, 16, 1024) 4096        block13_sepconv2[0][0]           \n",
      "__________________________________________________________________________________________________\n",
      "conv2d_64 (Conv2D)              (None, 8, 8, 1024)   745472      add_191[0][0]                    \n",
      "__________________________________________________________________________________________________\n",
      "block13_pool (MaxPooling2D)     (None, 8, 8, 1024)   0           block13_sepconv2_bn[0][0]        \n",
      "__________________________________________________________________________________________________\n",
      "batch_normalization_64 (BatchNo (None, 8, 8, 1024)   4096        conv2d_64[0][0]                  \n",
      "__________________________________________________________________________________________________\n",
      "add_192 (Add)                   (None, 8, 8, 1024)   0           block13_pool[0][0]               \n",
      "                                                                 batch_normalization_64[0][0]     \n",
      "__________________________________________________________________________________________________\n",
      "block14_sepconv1 (SeparableConv (None, 8, 8, 1536)   1582080     add_192[0][0]                    \n",
      "__________________________________________________________________________________________________\n",
      "block14_sepconv1_bn (BatchNorma (None, 8, 8, 1536)   6144        block14_sepconv1[0][0]           \n",
      "__________________________________________________________________________________________________\n",
      "block14_sepconv1_act (Activatio (None, 8, 8, 1536)   0           block14_sepconv1_bn[0][0]        \n",
      "__________________________________________________________________________________________________\n",
      "block14_sepconv2 (SeparableConv (None, 8, 8, 2048)   3159552     block14_sepconv1_act[0][0]       \n",
      "__________________________________________________________________________________________________\n",
      "block14_sepconv2_bn (BatchNorma (None, 8, 8, 2048)   8192        block14_sepconv2[0][0]           \n",
      "__________________________________________________________________________________________________\n",
      "block14_sepconv2_act (Activatio (None, 8, 8, 2048)   0           block14_sepconv2_bn[0][0]        \n",
      "==================================================================================================\n",
      "Total params: 20,861,480\n",
      "Trainable params: 20,806,952\n",
      "Non-trainable params: 54,528\n",
      "__________________________________________________________________________________________________\n"
     ]
    }
   ],
   "source": [
    "conv_base.summary()"
   ]
  },
  {
   "cell_type": "markdown",
   "metadata": {},
   "source": [
    "### Veri setindeki resimlerin ozellik haritasinin cikarilmasi"
   ]
  },
  {
   "cell_type": "code",
   "execution_count": 47,
   "metadata": {},
   "outputs": [
    {
     "name": "stdout",
     "output_type": "stream",
     "text": [
      "CPU calisiyor\n",
      "Found 200 images belonging to 2 classes.\n",
      "Found 16 images belonging to 2 classes.\n",
      "Found 24 images belonging to 2 classes.\n"
     ]
    }
   ],
   "source": [
    "import os\n",
    "import numpy as np\n",
    "from keras.preprocessing.image import ImageDataGenerator\n",
    "\n",
    "\n",
    "datagen = ImageDataGenerator(rescale = 1./255)\n",
    "batch_size = 8\n",
    "\n",
    "def extract_features(directory, sample_count):\n",
    "    features =np.zeros(shape=(sample_count,8,8,2048))\n",
    "    labels =np.zeros(shape=(sample_count))\n",
    "    \n",
    "    generator = datagen.flow_from_directory(directory,\n",
    "                                           target_size=(256,256),\n",
    "                                           batch_size= batch_size,\n",
    "                                           class_mode='binary')\n",
    "    i = 0\n",
    "    for inputs_batch, labels_batch in generator:\n",
    "        features_batch = conv_base.predict(inputs_batch)\n",
    "        features[i*batch_size: (i+1) * batch_size] = features_batch\n",
    "        labels[i * batch_size: (i+1) * batch_size] = labels_batch\n",
    "        i += 1\n",
    "    \n",
    "    \n",
    "        if i * batch_size >= sample_count:\n",
    "            break\n",
    "            \n",
    "    return features, labels\n",
    "\n",
    "       \n",
    "import tensorflow as tf\n",
    "\n",
    "with tf.device(\"cpu:0\"):\n",
    "    print(\"CPU calisiyor\")\n",
    "\n",
    "    train_features, train_labels = extract_features(train_dir, 200)\n",
    "    validation_features, validation_labels = extract_features(valid_dir, 16)\n",
    "    test_features, test_labels = extract_features(test_dir, 24)\n"
   ]
  },
  {
   "cell_type": "markdown",
   "metadata": {},
   "source": [
    "### 1.Egitim"
   ]
  },
  {
   "cell_type": "code",
   "execution_count": 34,
   "metadata": {},
   "outputs": [
    {
     "name": "stdout",
     "output_type": "stream",
     "text": [
      "CPU calisiyor\n",
      "Train on 200 samples, validate on 16 samples\n",
      "Epoch 1/5\n",
      "200/200 [==============================] - 1s 5ms/step - loss: 0.4317 - acc: 0.7750 - precision_20: 0.6451 - recall_20: 0.6227 - val_loss: 0.1739 - val_acc: 0.9375 - val_precision_20: 0.7951 - val_recall_20: 0.7689\n",
      "Epoch 2/5\n",
      "200/200 [==============================] - 0s 2ms/step - loss: 0.0902 - acc: 0.9950 - precision_20: 0.8618 - recall_20: 0.8405 - val_loss: 0.0437 - val_acc: 1.0000 - val_precision_20: 0.8957 - val_recall_20: 0.8832\n",
      "Epoch 3/5\n",
      "200/200 [==============================] - 0s 2ms/step - loss: 0.0254 - acc: 1.0000 - precision_20: 0.9146 - recall_20: 0.9041 - val_loss: 0.0236 - val_acc: 1.0000 - val_precision_20: 0.9310 - val_recall_20: 0.9224\n",
      "Epoch 4/5\n",
      "200/200 [==============================] - 0s 2ms/step - loss: 0.0132 - acc: 1.0000 - precision_20: 0.9403 - recall_20: 0.9327 - val_loss: 0.0216 - val_acc: 1.0000 - val_precision_20: 0.9485 - val_recall_20: 0.9419\n",
      "Epoch 5/5\n",
      "200/200 [==============================] - 0s 2ms/step - loss: 0.0123 - acc: 1.0000 - precision_20: 0.9544 - recall_20: 0.9484 - val_loss: 0.0178 - val_acc: 1.0000 - val_precision_20: 0.9589 - val_recall_20: 0.9535\n"
     ]
    },
    {
     "data": {
      "image/png": "[encoded data removed]",
      "text/plain": [
       "<Figure size 432x288 with 1 Axes>"
      ]
     },
     "metadata": {
      "needs_background": "light"
     },
     "output_type": "display_data"
    },
    {
     "data": {
      "image/png": "[encoded data removed]",
      "text/plain": [
       "<Figure size 432x288 with 1 Axes>"
      ]
     },
     "metadata": {
      "needs_background": "light"
     },
     "output_type": "display_data"
    }
   ],
   "source": [
    "with tf.device(\"cpu:0\"):\n",
    "    print(\"CPU calisiyor\")\n",
    "    \n",
    "    model = models.Sequential()\n",
    "    model.add(layers.GlobalAvgPool2D())\n",
    "    model.add(layers.Dropout(0.2))\n",
    "    model.add(layers.Dense(100, activation = 'relu', input_dim =8*8*2048))\n",
    "    model.add(layers.Dropout(0.2))\n",
    "    model.add(layers.Dense(1,activation='sigmoid'))\n",
    "    model.compile(optimizer=optimizers.Adam(),\n",
    "                 loss='binary_crossentropy',\n",
    "                 metrics=['acc',tf.keras.metrics.Precision(),tf.keras.metrics.Recall()])\n",
    "    \n",
    "    hist = model.fit(train_features, train_labels, epochs=5, batch_size=8,\n",
    "                        validation_data=(validation_features,validation_labels))\n",
    "\n",
    "#test_gen = test_datagen.flow_from_directory(test_dir, target_size=(256,256), batch_size=8, class_mode='binary')\n",
    "#scores = model.evaluate_generator(test_gen)\n",
    "#test_acc = scores[1]\n",
    "#test_loss = scores[0]\n",
    "#print(\"test accuracy\", test_acc)\n",
    "#print(\"test_loss\", test_loss)\n",
    "\n",
    "\n",
    "import matplotlib.pyplot as plt\n",
    "acc = hist.history['acc']\n",
    "val_acc = hist.history['val_acc']\n",
    "loss = hist.history['loss']\n",
    "val_loss = hist.history['val_loss']\n",
    "\n",
    "epochs = range(1, len(acc) +1 )\n",
    "plt.plot(epochs, acc, 'r', label='training_acc')\n",
    "plt.plot(epochs, val_acc, 'b', label='val_acc')\n",
    "plt.title('Accuracy(trainin and validation and)')\n",
    "plt.legend()\n",
    "\n",
    "plt.figure()\n",
    "\n",
    "plt.plot(epochs, loss, 'r', label='training_loss')\n",
    "plt.plot(epochs, val_loss, 'b', label='val_loss')\n",
    "plt.title('Loss(trainin and validation and)')\n",
    "plt.legend()\n",
    "\n",
    "plt.show()"
   ]
  },
  {
   "cell_type": "markdown",
   "metadata": {},
   "source": [
    "### 2.  Egitim 1.kisim(Adam)"
   ]
  },
  {
   "cell_type": "code",
   "execution_count": 68,
   "metadata": {
    "scrolled": true
   },
   "outputs": [
    {
     "name": "stdout",
     "output_type": "stream",
     "text": [
      "Epoch 1/5\n",
      "25/25 [==============================] - 91s 4s/step - loss: 0.0548 - acc: 0.9900 - precision_24: 0.9600 - recall_24: 0.8977 - val_loss: 0.1320 - val_acc: 0.9375 - val_precision_24: 1.0000 - val_recall_24: 0.9763\n",
      "Epoch 2/5\n",
      "25/25 [==============================] - 85s 3s/step - loss: 9.5665e-05 - acc: 1.0000 - precision_24: 1.0000 - recall_24: 0.9807 - val_loss: 1.2737e-04 - val_acc: 0.9375 - val_precision_24: 1.0000 - val_recall_24: 0.9814\n",
      "Epoch 3/5\n",
      "25/25 [==============================] - 90s 4s/step - loss: 4.2696e-05 - acc: 1.0000 - precision_24: 1.0000 - recall_24: 0.9849 - val_loss: 0.0800 - val_acc: 0.9375 - val_precision_24: 1.0000 - val_recall_24: 0.9845\n",
      "Epoch 4/5\n",
      "25/25 [==============================] - 86s 3s/step - loss: 2.7736e-04 - acc: 1.0000 - precision_24: 1.0000 - recall_24: 0.9866 - val_loss: 0.0179 - val_acc: 0.9375 - val_precision_24: 1.0000 - val_recall_24: 0.9861\n",
      "Epoch 5/5\n",
      "25/25 [==============================] - 86s 3s/step - loss: 7.6860e-05 - acc: 1.0000 - precision_24: 1.0000 - recall_24: 0.9875 - val_loss: 0.0170 - val_acc: 0.9375 - val_precision_24: 1.0000 - val_recall_24: 0.9870\n",
      "Found 24 images belonging to 2 classes.\n",
      "test accuracy 1.0\n",
      "test_loss 0.07381752878427505\n"
     ]
    }
   ],
   "source": [
    "model = models.Sequential()\n",
    "model.add(conv_base)\n",
    "model.add(layers.GlobalAvgPool2D())\n",
    "model.add(layers.Dropout(0.2))\n",
    "model.add(layers.Dense(100, activation = 'relu', input_dim =8*8*2048))\n",
    "model.add(layers.Dropout(0.2))\n",
    "model.add(layers.Dense(1,activation='sigmoid'))\n",
    "\n",
    "model.compile(optimizer=optimizers.Adam(),\n",
    "                 loss='binary_crossentropy',\n",
    "                 metrics=['acc',tf.keras.metrics.Precision(),tf.keras.metrics.Recall()])\n",
    "history = model.fit_generator(train_generator, epochs=5, validation_data=validation_generator)\n",
    "        \n",
    "test_gen = test_datagen.flow_from_directory(test_dir, target_size=(256,256), batch_size=8, class_mode='binary')\n",
    "scores = model.evaluate_generator(test_gen)\n",
    "test_acc = scores[1]\n",
    "test_loss = scores[0]\n",
    "print(\"test accuracy\", test_acc)\n",
    "print(\"test_loss\", test_loss)\n",
    "\n"
   ]
  },
  {
   "cell_type": "code",
   "execution_count": 71,
   "metadata": {},
   "outputs": [
    {
     "name": "stdout",
     "output_type": "stream",
     "text": [
      "0. epoch \n",
      " precision:0.9599999785423279, recall:0.8977335095405579, acc:0.9900000095367432, val_acc:0.9375, loss:0.0548291058545874, val_loss:0.13195069134235382, f1_score:0.9278232455253601\n",
      "1. epoch \n",
      " precision:1.0, recall:0.980680525302887, acc:1.0, val_acc:0.9375, loss:9.566548759721627e-05, val_loss:0.00012736913049593568, f1_score:0.990246057510376\n",
      "2. epoch \n",
      " precision:1.0, recall:0.9848787188529968, acc:1.0, val_acc:0.9375, loss:4.2695612023635476e-05, val_loss:0.08002695441246033, f1_score:0.992381751537323\n",
      "3. epoch \n",
      " precision:1.0, recall:0.9865828156471252, acc:1.0, val_acc:0.9375, loss:0.00027735865169052686, val_loss:0.017850954085588455, f1_score:0.9932461380958557\n",
      "4. epoch \n",
      " precision:1.0, recall:0.9874849915504456, acc:1.0, val_acc:0.9375, loss:7.685960485197541e-05, val_loss:0.01698773168027401, f1_score:0.9937031269073486\n"
     ]
    },
    {
     "data": {
      "image/png": "[encoded data removed]",
      "text/plain": [
       "<Figure size 432x288 with 1 Axes>"
      ]
     },
     "metadata": {
      "needs_background": "light"
     },
     "output_type": "display_data"
    },
    {
     "data": {
      "image/png": "[encoded data removed]",
      "text/plain": [
       "<Figure size 432x288 with 1 Axes>"
      ]
     },
     "metadata": {
      "needs_background": "light"
     },
     "output_type": "display_data"
    }
   ],
   "source": [
    "for i in range(0,5):\n",
    "    precision = history.history['precision_24'][i]\n",
    "    recall = history.history['recall_24'][i]\n",
    "    acc = history.history['acc'][i]\n",
    "    val_acc = history.history['val_acc'][i]\n",
    "    loss = history.history['loss'][i]\n",
    "    val_loss = history.history['val_loss'][i]\n",
    "    f1_score = 2 * ((precision*recall) / (precision+recall))\n",
    "    print(\"{}. epoch \\n precision:{}, recall:{}, acc:{}, val_acc:{}, loss:{}, val_loss:{}, f1_score:{}\".format(\n",
    "    i,precision,recall,acc,val_acc,loss,val_loss,f1_score))\n",
    "    \n",
    "import matplotlib.pyplot as plt\n",
    "acc = history.history['acc']\n",
    "val_acc = history.history['val_acc']\n",
    "loss = history.history['loss']\n",
    "val_loss = history.history['val_loss']\n",
    "\n",
    "epochs = range(1, len(acc) +1 )\n",
    "plt.plot(epochs, acc, 'r', label='training_acc')\n",
    "plt.plot(epochs, val_acc, 'b', label='val_acc')\n",
    "plt.title('Accuracy(trainin and validation)')\n",
    "plt.legend()\n",
    "\n",
    "plt.figure()\n",
    "\n",
    "plt.plot(epochs, loss, 'r', label='training_loss')\n",
    "plt.plot(epochs, val_loss, 'b', label='val_loss')\n",
    "plt.title('Loss(trainin and validation)')\n",
    "plt.legend()\n",
    "\n",
    "plt.show()\n"
   ]
  },
  {
   "cell_type": "markdown",
   "metadata": {},
   "source": [
    "### 2.  Egitim 2.kisim(SGD (lr: 0.0001, momentum: 0.7))"
   ]
  },
  {
   "cell_type": "code",
   "execution_count": 72,
   "metadata": {},
   "outputs": [
    {
     "name": "stdout",
     "output_type": "stream",
     "text": [
      "CPU calisiyor\n",
      "Epoch 1/5\n",
      "25/25 [==============================] - 88s 4s/step - loss: 0.7061 - acc: 0.4900 - precision_25: 0.4626 - recall_25: 0.7955 - val_loss: 0.6830 - val_acc: 0.5625 - val_precision_25: 0.4955 - val_recall_25: 0.7869\n",
      "Epoch 2/5\n",
      "25/25 [==============================] - 81s 3s/step - loss: 0.6554 - acc: 0.6000 - precision_25: 0.5036 - recall_25: 0.8012 - val_loss: 0.6615 - val_acc: 0.8125 - val_precision_25: 0.5331 - val_recall_25: 0.8310\n",
      "Epoch 3/5\n",
      "25/25 [==============================] - 82s 3s/step - loss: 0.6098 - acc: 0.7450 - precision_25: 0.5570 - recall_25: 0.8462 - val_loss: 0.6416 - val_acc: 0.8125 - val_precision_25: 0.5806 - val_recall_25: 0.8556\n",
      "Epoch 4/5\n",
      "25/25 [==============================] - 82s 3s/step - loss: 0.5795 - acc: 0.8650 - precision_25: 0.6073 - recall_25: 0.8712 - val_loss: 0.6491 - val_acc: 0.8125 - val_precision_25: 0.6283 - val_recall_25: 0.8788\n",
      "Epoch 5/5\n",
      "25/25 [==============================] - 83s 3s/step - loss: 0.5583 - acc: 0.8900 - precision_25: 0.6444 - recall_25: 0.8850 - val_loss: 0.6305 - val_acc: 0.8750 - val_precision_25: 0.6667 - val_recall_25: 0.8885\n",
      "Found 24 images belonging to 2 classes.\n",
      "test accuracy 0.875\n",
      "test_loss 0.6125460267066956\n"
     ]
    }
   ],
   "source": [
    "with tf.device(\"cpu:0\"):\n",
    "    print(\"CPU calisiyor\")\n",
    "    \n",
    "    model = models.Sequential()\n",
    "    model.add(conv_base)\n",
    "    model.add(layers.GlobalAvgPool2D())\n",
    "    model.add(layers.Dropout(0.2))\n",
    "    model.add(layers.Dense(100, activation = 'relu', input_dim =8*8*2048))\n",
    "    model.add(layers.Dropout(0.2))\n",
    "    model.add(layers.Dense(1,activation='sigmoid'))\n",
    "\n",
    "    model.compile(optimizer=optimizers.SGD(learning_rate=0.0001,momentum=0.7),\n",
    "                 loss='binary_crossentropy',\n",
    "                 metrics=['acc',tf.keras.metrics.Precision(),tf.keras.metrics.Recall()])\n",
    "\n",
    "    history = model.fit_generator(train_generator, epochs=5, validation_data=validation_generator)\n",
    "\n",
    "test_gen = test_datagen.flow_from_directory(test_dir, target_size=(256,256), batch_size=8, class_mode='binary')\n",
    "scores = model.evaluate_generator(test_gen)\n",
    "test_acc = scores[1]\n",
    "test_loss = scores[0]\n",
    "print(\"test accuracy\", test_acc)\n",
    "print(\"test_loss\", test_loss)\n",
    "    \n"
   ]
  },
  {
   "cell_type": "code",
   "execution_count": 79,
   "metadata": {},
   "outputs": [
    {
     "name": "stdout",
     "output_type": "stream",
     "text": [
      "0. epoch \n",
      " precision:0.46264970302581787, recall:0.7955451011657715, acc:0.49000000953674316, val_acc:0.5625, loss:0.7061042499542236, val_loss:0.6829856038093567, f1_score:0.5850583910942078\n",
      "1. epoch \n",
      " precision:0.503618061542511, recall:0.8012209534645081, acc:0.6000000238418579, val_acc:0.8125, loss:0.6553731799125672, val_loss:0.6615228056907654, f1_score:0.618481457233429\n",
      "2. epoch \n",
      " precision:0.557019829750061, recall:0.8462303280830383, acc:0.7450000047683716, val_acc:0.8125, loss:0.6097617626190186, val_loss:0.6416188478469849, f1_score:0.6718218326568604\n",
      "3. epoch \n",
      " precision:0.6072608828544617, recall:0.871218740940094, acc:0.8650000095367432, val_acc:0.8125, loss:0.5794538342952729, val_loss:0.6491173505783081, f1_score:0.7156772017478943\n",
      "4. epoch \n",
      " precision:0.6444023251533508, recall:0.8849998712539673, acc:0.8899999856948853, val_acc:0.875, loss:0.558282927274704, val_loss:0.6304933428764343, f1_score:0.7457762956619263\n"
     ]
    },
    {
     "data": {
      "image/png": "[encoded data removed]",
      "text/plain": [
       "<Figure size 432x288 with 1 Axes>"
      ]
     },
     "metadata": {
      "needs_background": "light"
     },
     "output_type": "display_data"
    },
    {
     "data": {
      "image/png": "[encoded data removed]",
      "text/plain": [
       "<Figure size 432x288 with 1 Axes>"
      ]
     },
     "metadata": {
      "needs_background": "light"
     },
     "output_type": "display_data"
    }
   ],
   "source": [
    "for i in range(0,5):\n",
    "    precision = history.history['precision_25'][i]\n",
    "    recall = history.history['recall_25'][i]\n",
    "    acc = history.history['acc'][i]\n",
    "    val_acc = history.history['val_acc'][i]\n",
    "    loss = history.history['loss'][i]\n",
    "    val_loss = history.history['val_loss'][i]\n",
    "    f1_score = 2 * ((precision*recall) / (precision+recall))\n",
    "    print(\"{}. epoch \\n precision:{}, recall:{}, acc:{}, val_acc:{}, loss:{}, val_loss:{}, f1_score:{}\".format(\n",
    "    i,precision,recall,acc,val_acc,loss,val_loss,f1_score))\n",
    "\n",
    "import matplotlib.pyplot as plt\n",
    "acc = history.history['acc']\n",
    "val_acc = history.history['val_acc']\n",
    "loss = history.history['loss']\n",
    "val_loss = history.history['val_loss']    \n",
    "epochs = range(1, len(acc) +1 )\n",
    "plt.plot(epochs, acc, 'r', label='training_acc')\n",
    "plt.plot(epochs, val_acc, 'b', label='val_acc')\n",
    "plt.title('Accuracy(trainin and validation)')\n",
    "plt.legend()\n",
    "\n",
    "plt.figure()\n",
    "\n",
    "plt.plot(epochs, loss, 'r', label='training_loss')\n",
    "plt.plot(epochs, val_loss, 'b', label='val_loss')\n",
    "plt.title('Loss(trainin and validation)')\n",
    "plt.legend()\n",
    "\n",
    "plt.show()"
   ]
  },
  {
   "cell_type": "markdown",
   "metadata": {},
   "source": [
    "### 2. Egitim 3.kisim(SGD (lr: 0.0001, momentum: 0.9))"
   ]
  },
  {
   "cell_type": "code",
   "execution_count": 81,
   "metadata": {},
   "outputs": [
    {
     "name": "stdout",
     "output_type": "stream",
     "text": [
      "CPU calisiyor\n",
      "Epoch 1/5\n",
      "25/25 [==============================] - 94s 4s/step - loss: 0.7255 - acc: 0.4200 - precision_27: 0.3856 - recall_27: 0.5893 - val_loss: 0.6849 - val_acc: 0.4375 - val_precision_27: 0.4371 - val_recall_27: 0.6141\n",
      "Epoch 2/5\n",
      "25/25 [==============================] - 88s 4s/step - loss: 0.5783 - acc: 0.8150 - precision_27: 0.5186 - recall_27: 0.6815 - val_loss: 0.6398 - val_acc: 0.9375 - val_precision_27: 0.5948 - val_recall_27: 0.7494\n",
      "Epoch 3/5\n",
      "25/25 [==============================] - 87s 3s/step - loss: 0.4591 - acc: 0.9750 - precision_27: 0.6552 - recall_27: 0.7944 - val_loss: 0.5571 - val_acc: 0.9375 - val_precision_27: 0.7018 - val_recall_27: 0.8261\n",
      "Epoch 4/5\n",
      "25/25 [==============================] - 87s 3s/step - loss: 0.3934 - acc: 0.9950 - precision_27: 0.7394 - recall_27: 0.8492 - val_loss: 0.5607 - val_acc: 0.9375 - val_precision_27: 0.7670 - val_recall_27: 0.8661\n",
      "Epoch 5/5\n",
      "25/25 [==============================] - 87s 3s/step - loss: 0.3279 - acc: 1.0000 - precision_27: 0.7902 - recall_27: 0.8800 - val_loss: 0.4544 - val_acc: 0.9375 - val_precision_27: 0.8096 - val_recall_27: 0.8906\n",
      "Found 24 images belonging to 2 classes.\n",
      "test accuracy 0.9583333134651184\n",
      "test_loss 0.511664867401123\n"
     ]
    }
   ],
   "source": [
    "with tf.device(\"cpu:0\"):\n",
    "    print(\"CPU calisiyor\")\n",
    "    \n",
    "    model = models.Sequential()\n",
    "    model.add(conv_base)\n",
    "    model.add(layers.GlobalAvgPool2D())\n",
    "    model.add(layers.Dropout(0.2))\n",
    "    model.add(layers.Dense(100, activation = 'relu', input_dim =8*8*2048))\n",
    "    model.add(layers.Dropout(0.2))\n",
    "    model.add(layers.Dense(1,activation='sigmoid'))\n",
    "\n",
    "    model.compile(optimizer=optimizers.SGD(learning_rate=0.0001,momentum=0.9),\n",
    "                 loss='binary_crossentropy',\n",
    "                 metrics=['acc',tf.keras.metrics.Precision(),tf.keras.metrics.Recall()])\n",
    "\n",
    "    history = model.fit_generator(train_generator, epochs=5, validation_data=validation_generator)\n",
    "\n",
    "test_gen = test_datagen.flow_from_directory(test_dir, target_size=(256,256), batch_size=8, class_mode='binary')\n",
    "scores = model.evaluate_generator(test_gen)\n",
    "test_acc = scores[1]\n",
    "test_loss = scores[0]\n",
    "print(\"test accuracy\", test_acc)\n",
    "print(\"test_loss\", test_loss)  \n"
   ]
  },
  {
   "cell_type": "code",
   "execution_count": 85,
   "metadata": {},
   "outputs": [
    {
     "name": "stdout",
     "output_type": "stream",
     "text": [
      "0. epoch \n",
      " precision:0.38564690947532654, recall:0.5893272757530212, acc:0.41999998688697815, val_acc:0.4375, loss:0.7255130672454834, val_loss:0.6849409341812134, f1_score:0.46621182560920715\n",
      "1. epoch \n",
      " precision:0.518582284450531, recall:0.6814658641815186, acc:0.8149999976158142, val_acc:0.9375, loss:0.578271757364273, val_loss:0.6398162245750427, f1_score:0.588969886302948\n",
      "2. epoch \n",
      " precision:0.6551900506019592, recall:0.7943938970565796, acc:0.9750000238418579, val_acc:0.9375, loss:0.45913087964057925, val_loss:0.5570554137229919, f1_score:0.718108057975769\n",
      "3. epoch \n",
      " precision:0.7393797039985657, recall:0.8492351770401001, acc:0.9950000047683716, val_acc:0.9375, loss:0.3933657109737396, val_loss:0.5606880187988281, f1_score:0.7905091047286987\n"
     ]
    },
    {
     "data": {
      "image/png": "[encoded data removed]",
      "text/plain": [
       "<Figure size 432x288 with 1 Axes>"
      ]
     },
     "metadata": {
      "needs_background": "light"
     },
     "output_type": "display_data"
    },
    {
     "data": {
      "image/png": "[encoded data removed]",
      "text/plain": [
       "<Figure size 432x288 with 1 Axes>"
      ]
     },
     "metadata": {
      "needs_background": "light"
     },
     "output_type": "display_data"
    }
   ],
   "source": [
    "\n",
    "for i in range(0,4):\n",
    "    precision = history.history['precision_27'][i]\n",
    "    recall = history.history['recall_27'][i]\n",
    "    acc = history.history['acc'][i]\n",
    "    val_acc = history.history['val_acc'][i]\n",
    "    loss = history.history['loss'][i]\n",
    "    val_loss = history.history['val_loss'][i]\n",
    "    f1_score = 2 * ((precision*recall) / (precision+recall))\n",
    "    print(\"{}. epoch \\n precision:{}, recall:{}, acc:{}, val_acc:{}, loss:{}, val_loss:{}, f1_score:{}\".format(\n",
    "    i,precision,recall,acc,val_acc,loss,val_loss,f1_score))\n",
    "    \n",
    "import matplotlib.pyplot as plt\n",
    "acc = history.history['acc']\n",
    "val_acc = history.history['val_acc']\n",
    "loss = history.history['loss']\n",
    "val_loss = history.history['val_loss']\n",
    "\n",
    "epochs = range(1, len(acc) +1 )\n",
    "plt.plot(epochs, acc, 'r', label='training_acc')\n",
    "plt.plot(epochs, val_acc, 'b', label='val_acc')\n",
    "plt.title('Accuracy(trainin and validation)')\n",
    "plt.legend()\n",
    "\n",
    "plt.figure()\n",
    "\n",
    "plt.plot(epochs, loss, 'r', label='training_loss')\n",
    "plt.plot(epochs, val_loss, 'b', label='val_loss')\n",
    "plt.title('Loss(trainin and validation)')\n",
    "plt.legend()\n",
    "\n",
    "plt.show()\n"
   ]
  },
  {
   "cell_type": "markdown",
   "metadata": {},
   "source": [
    "### 2. Egitim 4.kisim(SGD (lr: 0.0001, momentum: 0.98))"
   ]
  },
  {
   "cell_type": "code",
   "execution_count": 86,
   "metadata": {},
   "outputs": [
    {
     "name": "stdout",
     "output_type": "stream",
     "text": [
      "CPU calisiyor\n",
      "Epoch 1/5\n",
      "25/25 [==============================] - 88s 4s/step - loss: 0.5870 - acc: 0.8100 - precision_28: 0.8206 - recall_28: 0.6343 - val_loss: 0.5495 - val_acc: 0.9375 - val_precision_28: 0.8695 - val_recall_28: 0.7476\n",
      "Epoch 2/5\n",
      "25/25 [==============================] - 82s 3s/step - loss: 0.3608 - acc: 0.9750 - precision_28: 0.9066 - recall_28: 0.8049 - val_loss: 0.4572 - val_acc: 0.9375 - val_precision_28: 0.9332 - val_recall_28: 0.8501\n",
      "Epoch 3/5\n",
      "25/25 [==============================] - 81s 3s/step - loss: 0.2023 - acc: 1.0000 - precision_28: 0.9471 - recall_28: 0.8794 - val_loss: 0.4855 - val_acc: 0.9375 - val_precision_28: 0.9570 - val_recall_28: 0.8989\n",
      "Epoch 4/5\n",
      "25/25 [==============================] - 82s 3s/step - loss: 0.1277 - acc: 1.0000 - precision_28: 0.9632 - recall_28: 0.9116 - val_loss: 0.4044 - val_acc: 0.9375 - val_precision_28: 0.9682 - val_recall_28: 0.9220\n",
      "Epoch 5/5\n",
      "25/25 [==============================] - 81s 3s/step - loss: 0.0837 - acc: 1.0000 - precision_28: 0.9719 - recall_28: 0.9297 - val_loss: 0.2961 - val_acc: 0.9375 - val_precision_28: 0.9748 - val_recall_28: 0.9359\n",
      "Found 24 images belonging to 2 classes.\n",
      "test accuracy 1.0\n",
      "test_loss 0.19745923578739166\n"
     ]
    }
   ],
   "source": [
    "with tf.device(\"cpu:0\"):\n",
    "    print(\"CPU calisiyor\")\n",
    "    \n",
    "    model = models.Sequential()\n",
    "    model.add(conv_base)\n",
    "    model.add(layers.GlobalAvgPool2D())\n",
    "    model.add(layers.Dropout(0.2))\n",
    "    model.add(layers.Dense(100, activation = 'relu', input_dim =8*8*2048))\n",
    "    model.add(layers.Dropout(0.2))\n",
    "    model.add(layers.Dense(1,activation='sigmoid'))\n",
    "\n",
    "    model.compile(optimizer=optimizers.SGD(learning_rate=0.0001,momentum=0.98),\n",
    "                 loss='binary_crossentropy',\n",
    "                 metrics=['acc',tf.keras.metrics.Precision(),tf.keras.metrics.Recall()])\n",
    "\n",
    "    history = model.fit_generator(train_generator, epochs=5, validation_data=validation_generator)\n",
    "\n",
    "test_gen = test_datagen.flow_from_directory(test_dir, target_size=(256,256), batch_size=8, class_mode='binary')\n",
    "scores = model.evaluate_generator(test_gen)\n",
    "test_acc = scores[1]\n",
    "test_loss = scores[0]\n",
    "print(\"test accuracy\", test_acc)\n",
    "print(\"test_loss\", test_loss)  \n"
   ]
  },
  {
   "cell_type": "code",
   "execution_count": 88,
   "metadata": {},
   "outputs": [
    {
     "name": "stdout",
     "output_type": "stream",
     "text": [
      "0. epoch \n",
      " precision:0.8206305503845215, recall:0.6343379616737366, acc:0.8100000023841858, val_acc:0.9375, loss:0.5869547545909881, val_loss:0.5494952201843262, f1_score:0.7155579328536987\n",
      "1. epoch \n",
      " precision:0.9066012501716614, recall:0.8048859238624573, acc:0.9750000238418579, val_acc:0.9375, loss:0.36077226519584654, val_loss:0.45722538232803345, f1_score:0.8527210354804993\n",
      "2. epoch \n",
      " precision:0.947146475315094, recall:0.8793544173240662, acc:1.0, val_acc:0.9375, loss:0.20233741760253907, val_loss:0.485469788312912, f1_score:0.9119923710823059\n",
      "3. epoch \n",
      " precision:0.9632000923156738, recall:0.9116227030754089, acc:1.0, val_acc:0.9375, loss:0.1277215775847435, val_loss:0.4043908417224884, f1_score:0.9367018938064575\n"
     ]
    },
    {
     "data": {
      "image/png": "[encoded data removed]",
      "text/plain": [
       "<Figure size 432x288 with 1 Axes>"
      ]
     },
     "metadata": {
      "needs_background": "light"
     },
     "output_type": "display_data"
    },
    {
     "data": {
      "image/png": "[encoded data removed]",
      "text/plain": [
       "<Figure size 432x288 with 1 Axes>"
      ]
     },
     "metadata": {
      "needs_background": "light"
     },
     "output_type": "display_data"
    }
   ],
   "source": [
    "\n",
    "for i in range(0,4):\n",
    "    precision = history.history['precision_28'][i]\n",
    "    recall = history.history['recall_28'][i]\n",
    "    acc = history.history['acc'][i]\n",
    "    val_acc = history.history['val_acc'][i]\n",
    "    loss = history.history['loss'][i]\n",
    "    val_loss = history.history['val_loss'][i]\n",
    "    f1_score = 2 * ((precision*recall) / (precision+recall))\n",
    "    print(\"{}. epoch \\n precision:{}, recall:{}, acc:{}, val_acc:{}, loss:{}, val_loss:{}, f1_score:{}\".format(\n",
    "    i,precision,recall,acc,val_acc,loss,val_loss,f1_score))\n",
    "    \n",
    "import matplotlib.pyplot as plt\n",
    "acc = history.history['acc']\n",
    "val_acc = history.history['val_acc']\n",
    "loss = history.history['loss']\n",
    "val_loss = history.history['val_loss']\n",
    "\n",
    "epochs = range(1, len(acc) +1 )\n",
    "plt.plot(epochs, acc, 'r', label='training_acc')\n",
    "plt.plot(epochs, val_acc, 'b', label='val_acc')\n",
    "plt.title('Accuracy(trainin and validation)')\n",
    "plt.legend()\n",
    "\n",
    "plt.figure()\n",
    "\n",
    "plt.plot(epochs, loss, 'r', label='training_loss')\n",
    "plt.plot(epochs, val_loss, 'b', label='val_loss')\n",
    "plt.title('Loss(trainin and validation)')\n",
    "plt.legend()\n",
    "\n",
    "plt.show()"
   ]
  },
  {
   "cell_type": "markdown",
   "metadata": {},
   "source": [
    "### Performans karsilastirmasi"
   ]
  },
  {
   "cell_type": "markdown",
   "metadata": {},
   "source": [
    "    1 - (SGD (lr: 0.0001, momentum: 0.98)\n",
    "    2 - (Adam)\n",
    "    3 - (SGD (lr: 0.0001, momentum: 0.9))\n",
    "    4 - (SGD (lr: 0.0001, momentum: 0.7))"
   ]
  },
  {
   "cell_type": "code",
   "execution_count": null,
   "metadata": {},
   "outputs": [],
   "source": []
  }
 ],
 "metadata": {
  "kernelspec": {
   "display_name": "Python 3",
   "language": "python",
   "name": "python3"
  },
  "language_info": {
   "codemirror_mode": {
    "name": "ipython",
    "version": 3
   },
   "file_extension": ".py",
   "mimetype": "text/x-python",
   "name": "python",
   "nbconvert_exporter": "python",
   "pygments_lexer": "ipython3",
   "version": "3.7.4"
  }
 },
 "nbformat": 4,
 "nbformat_minor": 2
}
